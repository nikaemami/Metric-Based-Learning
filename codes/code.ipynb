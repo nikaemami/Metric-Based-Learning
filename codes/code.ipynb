{
 "cells": [
  {
   "cell_type": "markdown",
   "metadata": {
    "id": "7fJb01_Wedum"
   },
   "source": [
    "**Question 3:**\n",
    "\n",
    "**KNN Classifier:**\n",
    "\n",
    "**Part A:**\n",
    "\n",
    "Loading the data and putting to test and train sets, and organizing the indices:"
   ]
  },
  {
   "cell_type": "code",
   "execution_count": 1,
   "metadata": {
    "id": "hz2-W1GRed5U"
   },
   "outputs": [],
   "source": [
    "from sklearn.datasets import load_wine\n",
    "import pandas as pd\n",
    "import numpy as np\n",
    "import math\n",
    "import seaborn as sns\n",
    "import matplotlib.pyplot as plt"
   ]
  },
  {
   "cell_type": "code",
   "execution_count": 2,
   "metadata": {
    "id": "Fq0nHXVKWARk"
   },
   "outputs": [],
   "source": [
    "dataset = load_wine()\n",
    "data = dataset['data']\n",
    "target = dataset['target']\n",
    "data = pd.DataFrame(data)\n",
    "label = pd.DataFrame(target, columns=['label'])"
   ]
  },
  {
   "cell_type": "code",
   "execution_count": 19,
   "metadata": {
    "id": "K2ysF2mdWM-x"
   },
   "outputs": [],
   "source": [
    "df = pd.concat([data, label], axis=1)\n",
    "mask = np.random.rand(len(df)) <= 0.8\n",
    "train = df[mask]\n",
    "y_train = train['label']\n",
    "x_train = train.drop(['label'], axis=1)\n",
    "test = df[~mask]\n",
    "y_test = test['label']\n",
    "x_test = test.drop(['label'], axis=1)"
   ]
  },
  {
   "cell_type": "code",
   "execution_count": 20,
   "metadata": {
    "id": "gpfNXag4WOBT"
   },
   "outputs": [],
   "source": [
    "x_train.index=range(len(x_train))\n",
    "y_train.index=range(len(y_train))\n",
    "x_test.index=range(len(x_test))\n",
    "y_test.index=range(len(y_test))"
   ]
  },
  {
   "cell_type": "markdown",
   "metadata": {
    "id": "u-fkwl0JerJb"
   },
   "source": [
    "A function to calculate the distance:"
   ]
  },
  {
   "cell_type": "code",
   "execution_count": 5,
   "metadata": {
    "id": "7fvgQR3XY2ej"
   },
   "outputs": [],
   "source": [
    "def dist(x,y):   \n",
    "    return np.sqrt(np.sum((x-y)**2))"
   ]
  },
  {
   "cell_type": "markdown",
   "metadata": {
    "id": "1GL0rFX6evIt"
   },
   "source": [
    "The KNN classifier function from scratch:"
   ]
  },
  {
   "cell_type": "code",
   "execution_count": 6,
   "metadata": {
    "id": "po9QanohdKPX"
   },
   "outputs": [],
   "source": [
    "def KNN_Classifier (x_train, y_train, x_test, k):\n",
    "    yhat = []\n",
    "    overall_class_list = []\n",
    "    for i in range(len(x_test)):\n",
    "        x_t = x_test.iloc[i]\n",
    "        distance_list = []\n",
    "        index_list = []\n",
    "        for j in range(len(x_train)):\n",
    "            second_data = x_train.iloc[j]\n",
    "            distance_list.append(dist(x_t,second_data))\n",
    "            index_list.append(j)\n",
    "        distance = pd.DataFrame(distance_list, columns = ['distance'])\n",
    "        index = pd.DataFrame(index_list, columns = ['index'])\n",
    "        result = pd.concat([distance, index], axis=1)\n",
    "        result_sorted = result.sort_values(by = 'distance')\n",
    "        index_list = list(result_sorted['index'][:k])\n",
    "        distance = list(result_sorted['distance'][:k])\n",
    "        class_list = []\n",
    "        for index in index_list:\n",
    "            class_list.append(y_train[index])\n",
    "                \n",
    "        overall_class_list.append(class_list)\n",
    "        yhat.append(max(class_list,key=class_list.count))\n",
    "    return yhat, overall_class_list"
   ]
  },
  {
   "cell_type": "markdown",
   "metadata": {
    "id": "PbDSGXBb_cC3"
   },
   "source": [
    "A function to calculate accuracy:"
   ]
  },
  {
   "cell_type": "code",
   "execution_count": 7,
   "metadata": {
    "id": "--_cfaRJ_fIW"
   },
   "outputs": [],
   "source": [
    "def accuracy (y_test, yhat):\n",
    "    correct = 0\n",
    "    for i in range (len(y_test)):\n",
    "        if (y_test.loc[i] == yhat[i]):\n",
    "            correct+=1\n",
    "    return (correct*100/len(y_test))\n"
   ]
  },
  {
   "cell_type": "markdown",
   "metadata": {
    "id": "HuzrGGBs_gCo"
   },
   "source": [
    "A fuction to print the confusion matrix:"
   ]
  },
  {
   "cell_type": "code",
   "execution_count": 8,
   "metadata": {
    "id": "VqHiipS7_kNV"
   },
   "outputs": [],
   "source": [
    "def confusion_matrix (y_test, yhat):\n",
    "    t0 = t1 = t2 = f01 = f02 = f10 = f12 = f20 = f21 = 0\n",
    "    for i in range (len(y_test)):\n",
    "        y_predicted = yhat[i]\n",
    "        if(y_test.loc[i] == y_predicted):\n",
    "            if(y_predicted == 0): \n",
    "                t0 += 1\n",
    "            elif(y_predicted == 1): \n",
    "                t1 += 1\n",
    "            else: \n",
    "                t2 += 1\n",
    "        else:\n",
    "            if(y_predicted==0 and y_test.loc[i]==1):\n",
    "                f01+=1\n",
    "            elif (y_predicted==0 and y_test.loc[i]==2):\n",
    "                f02+=1\n",
    "            elif (y_predicted==1 and y_test.loc[i]==0):\n",
    "                f10+=1\n",
    "            elif (y_predicted==1 and y_test.loc[i]==2):\n",
    "                f12+=1\n",
    "            elif (y_predicted==2 and y_test.loc[i]==0):\n",
    "                f20+=1\n",
    "            elif (y_predicted==2 and y_test.loc[i]==1):\n",
    "                f21+=1\n",
    "    confusion_matrix = [[t0, f01, f02],\n",
    "                      [f10, t1, f12],\n",
    "                      [f20, f21,t2]]\n",
    "    print(confusion_matrix)"
   ]
  },
  {
   "cell_type": "markdown",
   "metadata": {
    "id": "cIZkwbYAdtY3"
   },
   "source": [
    "For k = 10:"
   ]
  },
  {
   "cell_type": "code",
   "execution_count": 21,
   "metadata": {
    "colab": {
     "base_uri": "https://localhost:8080/",
     "height": 0
    },
    "id": "6XXw2lh_XdXl",
    "outputId": "9dadef0a-e6d6-4385-ae25-75bce2f99431"
   },
   "outputs": [
    {
     "name": "stdout",
     "output_type": "stream",
     "text": [
      "accuracy =  79.48717948717949\n",
      "[[13, 0, 0], [0, 7, 2], [2, 4, 11]]\n"
     ]
    }
   ],
   "source": [
    "k = 10\n",
    "y_predicted_k10 = [None]*len(y_test)\n",
    "overall_class_list_10 = [None]*len(y_test)\n",
    "y_predicted_k10, overall_class_list_10 = KNN_Classifier(x_train, y_train, x_test, k)\n",
    "print('accuracy = ',  accuracy (y_test, y_predicted_k10))\n",
    "confusion_matrix(y_test, y_predicted_k10)"
   ]
  },
  {
   "cell_type": "markdown",
   "metadata": {
    "id": "n5Wk-jxhdv5O"
   },
   "source": [
    "For k = 5:"
   ]
  },
  {
   "cell_type": "code",
   "execution_count": 22,
   "metadata": {
    "colab": {
     "base_uri": "https://localhost:8080/",
     "height": 0
    },
    "id": "nm2yl1p0eAwr",
    "outputId": "c01f12a4-12ee-46dd-e1c6-39726e86e7bb"
   },
   "outputs": [
    {
     "name": "stdout",
     "output_type": "stream",
     "text": [
      "accuracy =  69.23076923076923\n",
      "[[13, 0, 0], [1, 7, 6], [1, 4, 7]]\n"
     ]
    }
   ],
   "source": [
    "k = 5\n",
    "y_predicted_k5 = [None]*len(y_test)\n",
    "overall_class_list_5 = [None]*len(y_test)\n",
    "y_predicted_k5, overall_class_list_5 = KNN_Classifier(x_train, y_train, x_test, k)\n",
    "print('accuracy = ',  accuracy (y_test, y_predicted_k5))\n",
    "confusion_matrix(y_test, y_predicted_k5)"
   ]
  },
  {
   "cell_type": "markdown",
   "metadata": {
    "id": "rqrHPa4YeA7S"
   },
   "source": [
    "For k = 20:"
   ]
  },
  {
   "cell_type": "code",
   "execution_count": 23,
   "metadata": {
    "colab": {
     "base_uri": "https://localhost:8080/",
     "height": 0
    },
    "id": "xa71gILSeDX0",
    "outputId": "d88274cb-b485-417d-cafa-6781b706f2a6"
   },
   "outputs": [
    {
     "name": "stdout",
     "output_type": "stream",
     "text": [
      "accuracy =  76.92307692307692\n",
      "[[13, 0, 0], [0, 8, 4], [2, 3, 9]]\n"
     ]
    }
   ],
   "source": [
    "k = 20\n",
    "y_predicted_k20 = [None]*len(y_test)\n",
    "overall_class_list_20 = [None]*len(y_test)\n",
    "y_predicted_k20, overall_class_list_20 = KNN_Classifier(x_train, y_train, x_test, k)\n",
    "print('accuracy = ',  accuracy (y_test, y_predicted_k20))\n",
    "confusion_matrix(y_test, y_predicted_k20)"
   ]
  },
  {
   "cell_type": "markdown",
   "metadata": {
    "id": "bNRueU-ceCnr"
   },
   "source": [
    "For k = 1:"
   ]
  },
  {
   "cell_type": "code",
   "execution_count": 24,
   "metadata": {
    "colab": {
     "base_uri": "https://localhost:8080/",
     "height": 0
    },
    "id": "jQPUZqvPeTGL",
    "outputId": "d423c9c9-79fd-4457-c3b3-b9c997f8f47a"
   },
   "outputs": [
    {
     "name": "stdout",
     "output_type": "stream",
     "text": [
      "accuracy =  74.35897435897436\n",
      "[[13, 0, 0], [1, 6, 3], [1, 5, 10]]\n"
     ]
    }
   ],
   "source": [
    "k = 1\n",
    "y_predicted_k1 = [None]*len(y_test)\n",
    "overall_class_list_1 = [None]*len(y_test)\n",
    "y_predicted_k1, overall_class_list_1 = KNN_Classifier(x_train, y_train, x_test, k)\n",
    "print('accuracy = ',  accuracy (y_test, y_predicted_k1))\n",
    "confusion_matrix(y_test, y_predicted_k1)"
   ]
  },
  {
   "cell_type": "markdown",
   "metadata": {
    "id": "2JNdXLBoxJtU"
   },
   "source": [
    "**Part B:**\n",
    "\n",
    "A function to return the probability of true or fasle for each data in a dataframe:"
   ]
  },
  {
   "cell_type": "code",
   "execution_count": 34,
   "metadata": {
    "id": "ZtEvEP7Qw1qD"
   },
   "outputs": [],
   "source": [
    "def probability_calc (y_test, y_predicted, class_list):\n",
    "    p = []\n",
    "    l = []\n",
    "    for i in range (len(y_test)):\n",
    "        if (y_test.loc[i] == y_predicted [i]):\n",
    "            label = 'True'\n",
    "            count = class_list[i].count(y_test.loc[i])\n",
    "            probability = count / len(class_list[i])\n",
    "        else:\n",
    "            label = 'False'\n",
    "            count = class_list[i].count(y_test.loc[i])\n",
    "            probability = 1 - (count / len(class_list[i]))\n",
    "        p.append(probability)\n",
    "        l.append(label)\n",
    "    probs = pd.DataFrame(p, columns = ['prob'])\n",
    "    labels = pd.DataFrame(l, columns = ['label'])\n",
    "    result = pd.concat([probs, labels], axis=1)\n",
    "    return result"
   ]
  },
  {
   "cell_type": "markdown",
   "metadata": {
    "id": "eWX6J-XE__as"
   },
   "source": [
    "A function to plot the count of each probability:"
   ]
  },
  {
   "cell_type": "code",
   "execution_count": 35,
   "metadata": {
    "id": "z64jmZ1J__ik"
   },
   "outputs": [],
   "source": [
    "def plot_graph (result, k):\n",
    "    sns.countplot(data=result, x = 'label', hue = 'prob')\n",
    "    plt.legend(bbox_to_anchor=(1.2,1), loc='upper right', borderaxespad=0)"
   ]
  },
  {
   "cell_type": "markdown",
   "metadata": {
    "id": "z4xf1zjfAI5o"
   },
   "source": [
    "k = 10:"
   ]
  },
  {
   "cell_type": "code",
   "execution_count": 36,
   "metadata": {
    "colab": {
     "base_uri": "https://localhost:8080/",
     "height": 279
    },
    "id": "gOFfNJ5_AKvq",
    "outputId": "db216ecf-c0a9-4b3b-a28d-cffd94cdec03"
   },
   "outputs": [
    {
     "data": {
      "image/png": "[encoded data removed]",
      "text/plain": [
       "<Figure size 432x288 with 1 Axes>"
      ]
     },
     "metadata": {
      "needs_background": "light"
     },
     "output_type": "display_data"
    }
   ],
   "source": [
    "probability_10 = probability_calc (y_test, y_predicted_k10, overall_class_list_10)\n",
    "plot_graph(probability_10, 10)"
   ]
  },
  {
   "cell_type": "markdown",
   "metadata": {
    "id": "BvMkAuw1AK4Z"
   },
   "source": [
    "k = 5:"
   ]
  },
  {
   "cell_type": "code",
   "execution_count": 37,
   "metadata": {
    "colab": {
     "base_uri": "https://localhost:8080/",
     "height": 279
    },
    "id": "pA-rXGWvAOBj",
    "outputId": "b78d3a91-b010-4c16-855e-d1c3480f2cf5"
   },
   "outputs": [
    {
     "data": {
      "image/png": "[encoded data removed]",
      "text/plain": [
       "<Figure size 432x288 with 1 Axes>"
      ]
     },
     "metadata": {
      "needs_background": "light"
     },
     "output_type": "display_data"
    }
   ],
   "source": [
    "probability_5 = probability_calc (y_test, y_predicted_k5, overall_class_list_5)\n",
    "plot_graph(probability_5, 5)"
   ]
  },
  {
   "cell_type": "markdown",
   "metadata": {
    "id": "19KjtnijAOJz"
   },
   "source": [
    "k = 20:"
   ]
  },
  {
   "cell_type": "code",
   "execution_count": 38,
   "metadata": {
    "colab": {
     "base_uri": "https://localhost:8080/",
     "height": 279
    },
    "id": "ltDOLl0OAPFX",
    "outputId": "b6081ef6-fd2e-4384-976a-ded3a3cd62f0"
   },
   "outputs": [
    {
     "data": {
      "image/png": "[encoded data removed]",
      "text/plain": [
       "<Figure size 432x288 with 1 Axes>"
      ]
     },
     "metadata": {
      "needs_background": "light"
     },
     "output_type": "display_data"
    }
   ],
   "source": [
    "probability_20 = probability_calc (y_test, y_predicted_k20, overall_class_list_20)\n",
    "plot_graph(probability_20, 20)"
   ]
  },
  {
   "cell_type": "markdown",
   "metadata": {
    "id": "yHy89eJSAPNH"
   },
   "source": [
    "k = 1:"
   ]
  },
  {
   "cell_type": "code",
   "execution_count": 39,
   "metadata": {
    "colab": {
     "base_uri": "https://localhost:8080/",
     "height": 279
    },
    "id": "Wi3x6TDzAe8G",
    "outputId": "d8e69e50-dae3-4022-894b-295c683a8767"
   },
   "outputs": [
    {
     "data": {
      "image/png": "[encoded data removed]",
      "text/plain": [
       "<Figure size 432x288 with 1 Axes>"
      ]
     },
     "metadata": {
      "needs_background": "light"
     },
     "output_type": "display_data"
    }
   ],
   "source": [
    "probability_1 = probability_calc(y_test, y_predicted_k1, overall_class_list_1)\n",
    "plot_graph(probability_1, 1)"
   ]
  },
  {
   "cell_type": "markdown",
   "metadata": {
    "id": "0YPrRkeNAr3d"
   },
   "source": [
    "**Metric Learning:**"
   ]
  },
  {
   "cell_type": "markdown",
   "metadata": {
    "id": "BPAvV5iuA61w"
   },
   "source": [
    "**Part B - 2:**"
   ]
  },
  {
   "cell_type": "code",
   "execution_count": 42,
   "metadata": {
    "colab": {
     "base_uri": "https://localhost:8080/",
     "height": 0
    },
    "id": "AbV9WtY7BIyi",
    "outputId": "834ad512-7bfa-4df4-a522-a4a35733407c"
   },
   "outputs": [
    {
     "name": "stdout",
     "output_type": "stream",
     "text": [
      "Collecting metric-learn\n",
      "  Downloading metric_learn-0.6.2-py2.py3-none-any.whl (64 kB)\n",
      "\u001b[K     |████████████████████████████████| 64 kB 168 kB/s eta 0:00:01\n",
      "\u001b[?25hRequirement already satisfied: scipy in /Users/Nika/opt/anaconda3/lib/python3.8/site-packages (from metric-learn) (1.5.2)\n",
      "Requirement already satisfied: numpy in /Users/Nika/opt/anaconda3/lib/python3.8/site-packages (from metric-learn) (1.19.2)\n",
      "Requirement already satisfied: scikit-learn>=0.20.3 in /Users/Nika/opt/anaconda3/lib/python3.8/site-packages (from metric-learn) (0.23.2)\n",
      "Requirement already satisfied: threadpoolctl>=2.0.0 in /Users/Nika/opt/anaconda3/lib/python3.8/site-packages (from scikit-learn>=0.20.3->metric-learn) (2.1.0)\n",
      "Requirement already satisfied: joblib>=0.11 in /Users/Nika/opt/anaconda3/lib/python3.8/site-packages (from scikit-learn>=0.20.3->metric-learn) (0.17.0)\n",
      "Installing collected packages: metric-learn\n",
      "Successfully installed metric-learn-0.6.2\n"
     ]
    }
   ],
   "source": [
    "!pip install metric-learn\n",
    "from metric_learn import LMNN\n",
    "from metric_learn import LFDA"
   ]
  },
  {
   "cell_type": "markdown",
   "metadata": {
    "id": "KdUbzGoUEgXg"
   },
   "source": [
    "**LMNN:**"
   ]
  },
  {
   "cell_type": "markdown",
   "metadata": {
    "id": "dXQ3ekntIbgK"
   },
   "source": [
    "A function to plot the data:"
   ]
  },
  {
   "cell_type": "code",
   "execution_count": 45,
   "metadata": {
    "id": "ir6XZKY2Idl-"
   },
   "outputs": [],
   "source": [
    "from sklearn.manifold import TSNE\n",
    "def plot_new(x_train, y_train):\n",
    "    tsne = TSNE()\n",
    "    x_new = tsne.fit_transform(x_train)\n",
    "    plt.scatter(x_new[:, 0], x_new[:, 1], c=y_train, cmap=plt.cm.Paired)\n",
    "    plt.xticks(())\n",
    "    plt.yticks(())\n",
    "    plt.show()"
   ]
  },
  {
   "cell_type": "code",
   "execution_count": 70,
   "metadata": {
    "id": "9O2GDGltG-6I"
   },
   "outputs": [],
   "source": [
    "def LMNN_calc (x_train, y_train, x_test, K):\n",
    "    lmnn = LMNN(k=K, n_components=2)\n",
    "    lmnn.fit(x_train, y_train)\n",
    "    x_train_new = lmnn.transform(x_train)\n",
    "    x_test_new = lmnn.transform(x_test)\n",
    "    return x_train_new, x_test_new"
   ]
  },
  {
   "cell_type": "markdown",
   "metadata": {
    "id": "ed0UoV2taWtt"
   },
   "source": [
    "Initial data:"
   ]
  },
  {
   "cell_type": "code",
   "execution_count": 123,
   "metadata": {
    "colab": {
     "base_uri": "https://localhost:8080/",
     "height": 341
    },
    "id": "-rBfq9niaVSM",
    "outputId": "f0311337-098d-4666-8993-907d328379eb"
   },
   "outputs": [
    {
     "name": "stderr",
     "output_type": "stream",
     "text": [
      "/usr/local/lib/python3.8/dist-packages/sklearn/manifold/_t_sne.py:780: FutureWarning: The default initialization in TSNE will change from 'random' to 'pca' in 1.2.\n",
      "  warnings.warn(\n",
      "/usr/local/lib/python3.8/dist-packages/sklearn/manifold/_t_sne.py:790: FutureWarning: The default learning rate in TSNE will change from 200.0 to 'auto' in 1.2.\n",
      "  warnings.warn(\n"
     ]
    },
    {
     "data": {
      "image/png": "[encoded data removed]",
      "text/plain": [
       "<Figure size 432x288 with 1 Axes>"
      ]
     },
     "metadata": {},
     "output_type": "display_data"
    }
   ],
   "source": [
    "plot_new(x_train, y_train)"
   ]
  },
  {
   "cell_type": "markdown",
   "metadata": {
    "id": "EqM8dnGtHn02"
   },
   "source": [
    "k = 1:"
   ]
  },
  {
   "cell_type": "code",
   "execution_count": 99,
   "metadata": {
    "colab": {
     "base_uri": "https://localhost:8080/",
     "height": 341
    },
    "id": "iC4KnPHXDNDM",
    "outputId": "51083bec-b898-42eb-a038-ef0c459d8feb"
   },
   "outputs": [
    {
     "name": "stderr",
     "output_type": "stream",
     "text": [
      "/usr/local/lib/python3.8/dist-packages/sklearn/manifold/_t_sne.py:780: FutureWarning: The default initialization in TSNE will change from 'random' to 'pca' in 1.2.\n",
      "  warnings.warn(\n",
      "/usr/local/lib/python3.8/dist-packages/sklearn/manifold/_t_sne.py:790: FutureWarning: The default learning rate in TSNE will change from 200.0 to 'auto' in 1.2.\n",
      "  warnings.warn(\n"
     ]
    },
    {
     "data": {
      "image/png": "[encoded data removed]",
      "text/plain": [
       "<Figure size 432x288 with 1 Axes>"
      ]
     },
     "metadata": {},
     "output_type": "display_data"
    }
   ],
   "source": [
    "x_new_1, x_test_1 = LMNN_calc (x_train, y_train, x_test, 1)\n",
    "plot_new(x_new_1, y_train)"
   ]
  },
  {
   "cell_type": "markdown",
   "metadata": {
    "id": "22bNkDmiEikY"
   },
   "source": [
    "k = 5:"
   ]
  },
  {
   "cell_type": "code",
   "execution_count": 100,
   "metadata": {
    "colab": {
     "base_uri": "https://localhost:8080/",
     "height": 341
    },
    "id": "Ls6yW29nEkw6",
    "outputId": "43ef0e9d-7471-4ba3-c4ce-baa61c5df2d3"
   },
   "outputs": [
    {
     "name": "stderr",
     "output_type": "stream",
     "text": [
      "/usr/local/lib/python3.8/dist-packages/sklearn/manifold/_t_sne.py:780: FutureWarning: The default initialization in TSNE will change from 'random' to 'pca' in 1.2.\n",
      "  warnings.warn(\n",
      "/usr/local/lib/python3.8/dist-packages/sklearn/manifold/_t_sne.py:790: FutureWarning: The default learning rate in TSNE will change from 200.0 to 'auto' in 1.2.\n",
      "  warnings.warn(\n"
     ]
    },
    {
     "data": {
      "image/png": "[encoded data removed]",
      "text/plain": [
       "<Figure size 432x288 with 1 Axes>"
      ]
     },
     "metadata": {},
     "output_type": "display_data"
    }
   ],
   "source": [
    "x_new_5, x_test_5 = LMNN_calc (x_train, y_train, x_test, 5)\n",
    "plot_new(x_new_5, y_train)"
   ]
  },
  {
   "cell_type": "markdown",
   "metadata": {
    "id": "MtYj5B7vEk55"
   },
   "source": [
    "k = 15:"
   ]
  },
  {
   "cell_type": "code",
   "execution_count": 101,
   "metadata": {
    "colab": {
     "base_uri": "https://localhost:8080/",
     "height": 341
    },
    "id": "JLCXrUFMEnDx",
    "outputId": "ff5e36c2-8f2e-4385-fb27-9f23219259b8"
   },
   "outputs": [
    {
     "name": "stderr",
     "output_type": "stream",
     "text": [
      "/usr/local/lib/python3.8/dist-packages/sklearn/manifold/_t_sne.py:780: FutureWarning: The default initialization in TSNE will change from 'random' to 'pca' in 1.2.\n",
      "  warnings.warn(\n",
      "/usr/local/lib/python3.8/dist-packages/sklearn/manifold/_t_sne.py:790: FutureWarning: The default learning rate in TSNE will change from 200.0 to 'auto' in 1.2.\n",
      "  warnings.warn(\n"
     ]
    },
    {
     "data": {
      "image/png": "[encoded data removed]",
      "text/plain": [
       "<Figure size 432x288 with 1 Axes>"
      ]
     },
     "metadata": {},
     "output_type": "display_data"
    }
   ],
   "source": [
    "x_new_15, x_test_15 = LMNN_calc (x_train, y_train, x_test, 15)\n",
    "plot_new(x_new_15, y_train)"
   ]
  },
  {
   "cell_type": "markdown",
   "metadata": {
    "id": "PVnZfmx6JAtH"
   },
   "source": [
    "As it can be seen from the plots above, the best classification happens for k = 15.\n",
    "\n",
    "Accuracy and Confusion Matrix for k = 15 transform: "
   ]
  },
  {
   "cell_type": "code",
   "execution_count": 50,
   "metadata": {
    "id": "xzX2T6JWJAQ2"
   },
   "outputs": [],
   "source": [
    "from sklearn.metrics import accuracy_score\n",
    "from sklearn.metrics import confusion_matrix\n",
    "from sklearn.metrics import plot_confusion_matrix"
   ]
  },
  {
   "cell_type": "code",
   "execution_count": 78,
   "metadata": {
    "id": "6dM9XePmRYSv"
   },
   "outputs": [],
   "source": [
    "x_train_new = pd.DataFrame(x_new_15)\n",
    "x_test_new = pd.DataFrame(x_test_15)"
   ]
  },
  {
   "cell_type": "markdown",
   "metadata": {
    "id": "_bkqB2WtNLsh"
   },
   "source": [
    "k = 10:"
   ]
  },
  {
   "cell_type": "code",
   "execution_count": 79,
   "metadata": {
    "colab": {
     "base_uri": "https://localhost:8080/",
     "height": 0
    },
    "id": "3SEi1uk-NB5H",
    "outputId": "201b7adf-56d3-49b4-97fa-934a8a20d625"
   },
   "outputs": [
    {
     "name": "stdout",
     "output_type": "stream",
     "text": [
      "accuracy =  0.9666666666666667\n"
     ]
    },
    {
     "data": {
      "text/plain": [
       "array([[10,  0,  0],\n",
       "       [ 1, 12,  0],\n",
       "       [ 0,  0,  7]])"
      ]
     },
     "execution_count": 79,
     "metadata": {},
     "output_type": "execute_result"
    }
   ],
   "source": [
    "k = 10\n",
    "y_k10 = [None]*len(y_test)\n",
    "class_list_10 = [None]*len(y_test)\n",
    "y_k10, class_list_10 = KNN_Classifier(x_train_new, y_train, x_test_new, k)\n",
    "print('accuracy = ', accuracy_score(y_test, y_k10))\n",
    "confusion_matrix(y_test, y_k10)"
   ]
  },
  {
   "cell_type": "markdown",
   "metadata": {
    "id": "wIvPUswQNNSB"
   },
   "source": [
    "k = 5:"
   ]
  },
  {
   "cell_type": "code",
   "execution_count": 81,
   "metadata": {
    "colab": {
     "base_uri": "https://localhost:8080/",
     "height": 0
    },
    "id": "45IUXS2BNNaF",
    "outputId": "03a797d1-f824-4cd3-d8cb-51f0ecc78724"
   },
   "outputs": [
    {
     "name": "stdout",
     "output_type": "stream",
     "text": [
      "accuracy =  0.9666666666666667\n"
     ]
    },
    {
     "data": {
      "text/plain": [
       "array([[10,  0,  0],\n",
       "       [ 1, 12,  0],\n",
       "       [ 0,  0,  7]])"
      ]
     },
     "execution_count": 81,
     "metadata": {},
     "output_type": "execute_result"
    }
   ],
   "source": [
    "k = 5\n",
    "y_k5 = [None]*len(y_test)\n",
    "class_list_5 = [None]*len(y_test)\n",
    "y_k5, class_list_5 = KNN_Classifier(x_train_new, y_train, x_test_new, k)\n",
    "print('accuracy = ', accuracy_score(y_test, y_k5))\n",
    "confusion_matrix(y_test, y_k5)"
   ]
  },
  {
   "cell_type": "markdown",
   "metadata": {
    "id": "wB93UxNeNNil"
   },
   "source": [
    "k = 20:"
   ]
  },
  {
   "cell_type": "code",
   "execution_count": 83,
   "metadata": {
    "colab": {
     "base_uri": "https://localhost:8080/",
     "height": 0
    },
    "id": "NhWpsxgGNNrQ",
    "outputId": "e681b1bb-8e8f-4c53-b7b1-72f3a560a810"
   },
   "outputs": [
    {
     "name": "stdout",
     "output_type": "stream",
     "text": [
      "accuracy =  1.0\n"
     ]
    },
    {
     "data": {
      "text/plain": [
       "array([[10,  0,  0],\n",
       "       [ 0, 13,  0],\n",
       "       [ 0,  0,  7]])"
      ]
     },
     "execution_count": 83,
     "metadata": {},
     "output_type": "execute_result"
    }
   ],
   "source": [
    "k = 20\n",
    "y_k20 = [None]*len(y_test)\n",
    "class_list_20 = [None]*len(y_test)\n",
    "y_k20, class_list_20 = KNN_Classifier(x_train_new, y_train, x_test_new, k)\n",
    "print('accuracy = ', accuracy_score(y_test, y_k20))\n",
    "confusion_matrix(y_test, y_k20)"
   ]
  },
  {
   "cell_type": "markdown",
   "metadata": {
    "id": "7amsoqoxNN0Y"
   },
   "source": [
    "k = 1:"
   ]
  },
  {
   "cell_type": "code",
   "execution_count": 84,
   "metadata": {
    "colab": {
     "base_uri": "https://localhost:8080/",
     "height": 0
    },
    "id": "rKBLqW_iNN8q",
    "outputId": "7bbb6662-0c4f-4def-dd42-04e921a29a68"
   },
   "outputs": [
    {
     "name": "stdout",
     "output_type": "stream",
     "text": [
      "accuracy =  1.0\n"
     ]
    },
    {
     "data": {
      "text/plain": [
       "array([[10,  0,  0],\n",
       "       [ 0, 13,  0],\n",
       "       [ 0,  0,  7]])"
      ]
     },
     "execution_count": 84,
     "metadata": {},
     "output_type": "execute_result"
    }
   ],
   "source": [
    "k = 1\n",
    "y_k1 = [None]*len(y_test)\n",
    "class_list_1 = [None]*len(y_test)\n",
    "y_k1, class_list_1 = KNN_Classifier(x_train_new, y_train, x_test_new, k)\n",
    "print('accuracy = ', accuracy_score(y_test, y_k1))\n",
    "confusion_matrix(y_test, y_k1)"
   ]
  },
  {
   "cell_type": "markdown",
   "metadata": {
    "id": "u8Zm9z9KS-QN"
   },
   "source": [
    "Correlation Matrix:"
   ]
  },
  {
   "cell_type": "code",
   "execution_count": 119,
   "metadata": {
    "colab": {
     "base_uri": "https://localhost:8080/",
     "height": 353
    },
    "id": "x73ybnAWTaQ7",
    "outputId": "ee326b19-c111-4aa2-cc65-4a98c13a22a2"
   },
   "outputs": [
    {
     "data": {
      "text/plain": [
       "<matplotlib.axes._subplots.AxesSubplot at 0x7f4ae0803430>"
      ]
     },
     "execution_count": 119,
     "metadata": {},
     "output_type": "execute_result"
    },
    {
     "data": {
      "image/png": "[encoded data removed]",
      "text/plain": [
       "<Figure size 792x360 with 2 Axes>"
      ]
     },
     "metadata": {
      "needs_background": "light"
     },
     "output_type": "display_data"
    }
   ],
   "source": [
    "corr_matrix_initial = x_train.corr()\n",
    "plt.figure(figsize=(11, 5))\n",
    "plt.title('Initial Correlation Matrix')\n",
    "sns.heatmap(corr_matrix_initial, annot=True)"
   ]
  },
  {
   "cell_type": "code",
   "execution_count": 120,
   "metadata": {
    "colab": {
     "base_uri": "https://localhost:8080/",
     "height": 298
    },
    "id": "TW7WUXgoUeo7",
    "outputId": "650733f6-348d-4db4-d436-dfb54d99e41a"
   },
   "outputs": [
    {
     "data": {
      "text/plain": [
       "<matplotlib.axes._subplots.AxesSubplot at 0x7f4ae060f280>"
      ]
     },
     "execution_count": 120,
     "metadata": {},
     "output_type": "execute_result"
    },
    {
     "data": {
      "image/png": "[encoded data removed]",
      "text/plain": [
       "<Figure size 432x288 with 2 Axes>"
      ]
     },
     "metadata": {
      "needs_background": "light"
     },
     "output_type": "display_data"
    }
   ],
   "source": [
    "corr_matrix_final = x_train_new.corr()\n",
    "plt.title('Correlation Matrix after applying LMNN')\n",
    "sns.heatmap(corr_matrix_final, annot=True)"
   ]
  },
  {
   "cell_type": "markdown",
   "metadata": {
    "id": "w8t6gevTWrHq"
   },
   "source": [
    "**LFDA:**"
   ]
  },
  {
   "cell_type": "code",
   "execution_count": 43,
   "metadata": {
    "id": "IPjRmnLgW29L"
   },
   "outputs": [],
   "source": [
    "def LFDA_calc (x_train, y_train, x_test, K):\n",
    "    lfda = LFDA(k=K, n_components=2)\n",
    "    lfda.fit(x_train, y_train)\n",
    "    x_train_new = lfda.transform(x_train)\n",
    "    x_test_new = lfda.transform(x_test)\n",
    "    return x_train_new, x_test_new"
   ]
  },
  {
   "cell_type": "markdown",
   "metadata": {
    "id": "MtX4AbwlW_4h"
   },
   "source": [
    "k = 1:"
   ]
  },
  {
   "cell_type": "code",
   "execution_count": 103,
   "metadata": {
    "colab": {
     "base_uri": "https://localhost:8080/",
     "height": 341
    },
    "id": "NrR8m70MEXH2",
    "outputId": "bb6443ed-74f8-449a-ffeb-e508389dd9c8"
   },
   "outputs": [
    {
     "name": "stderr",
     "output_type": "stream",
     "text": [
      "/usr/local/lib/python3.8/dist-packages/sklearn/manifold/_t_sne.py:780: FutureWarning: The default initialization in TSNE will change from 'random' to 'pca' in 1.2.\n",
      "  warnings.warn(\n",
      "/usr/local/lib/python3.8/dist-packages/sklearn/manifold/_t_sne.py:790: FutureWarning: The default learning rate in TSNE will change from 200.0 to 'auto' in 1.2.\n",
      "  warnings.warn(\n"
     ]
    },
    {
     "data": {
      "image/png": "[encoded data removed]",
      "text/plain": [
       "<Figure size 432x288 with 1 Axes>"
      ]
     },
     "metadata": {},
     "output_type": "display_data"
    }
   ],
   "source": [
    "x_new_1, x_test_1 = LFDA_calc (x_train, y_train, x_test, 1)\n",
    "plot_new(x_new_1, y_train)"
   ]
  },
  {
   "cell_type": "markdown",
   "metadata": {
    "id": "k58qvESqXXAR"
   },
   "source": [
    "k = 5:"
   ]
  },
  {
   "cell_type": "code",
   "execution_count": 104,
   "metadata": {
    "colab": {
     "base_uri": "https://localhost:8080/",
     "height": 341
    },
    "id": "kBTLOTBFXX9E",
    "outputId": "59664204-41da-40ff-f356-f55c425159b1"
   },
   "outputs": [
    {
     "name": "stderr",
     "output_type": "stream",
     "text": [
      "/usr/local/lib/python3.8/dist-packages/sklearn/manifold/_t_sne.py:780: FutureWarning: The default initialization in TSNE will change from 'random' to 'pca' in 1.2.\n",
      "  warnings.warn(\n",
      "/usr/local/lib/python3.8/dist-packages/sklearn/manifold/_t_sne.py:790: FutureWarning: The default learning rate in TSNE will change from 200.0 to 'auto' in 1.2.\n",
      "  warnings.warn(\n"
     ]
    },
    {
     "data": {
      "image/png": "[encoded data removed]",
      "text/plain": [
       "<Figure size 432x288 with 1 Axes>"
      ]
     },
     "metadata": {},
     "output_type": "display_data"
    }
   ],
   "source": [
    "x_new_5, x_test_5 = LFDA_calc (x_train, y_train, x_test, 5)\n",
    "plot_new(x_new_5, y_train)"
   ]
  },
  {
   "cell_type": "markdown",
   "metadata": {
    "id": "Uq-hG0H9XduS"
   },
   "source": [
    "k = 15:"
   ]
  },
  {
   "cell_type": "code",
   "execution_count": 46,
   "metadata": {
    "colab": {
     "base_uri": "https://localhost:8080/",
     "height": 376
    },
    "id": "cvLNhdMEXes3",
    "outputId": "0359eb5e-86ca-4ade-99df-c216a9634b3d"
   },
   "outputs": [
    {
     "name": "stderr",
     "output_type": "stream",
     "text": [
      "/Users/Nika/opt/anaconda3/lib/python3.8/site-packages/metric_learn/lfda.py:109: UserWarning: Chosen k (15) too large, using 12 instead.\n",
      "  warnings.warn('Chosen k (%d) too large, using %d instead.'\n"
     ]
    },
    {
     "data": {
      "image/png": "[encoded data removed]",
      "text/plain": [
       "<Figure size 432x288 with 1 Axes>"
      ]
     },
     "metadata": {},
     "output_type": "display_data"
    }
   ],
   "source": [
    "x_new_15, x_test_15 = LFDA_calc (x_train, y_train, x_test, 15)\n",
    "plot_new(x_new_15, y_train)"
   ]
  },
  {
   "cell_type": "markdown",
   "metadata": {
    "id": "ATZyxB5cXsN1"
   },
   "source": [
    "As it can be seen from the plots above, the best classification happens for k = 15.\n",
    "\n",
    "Accuracy and Confusion Matrix for k = 15 transform: "
   ]
  },
  {
   "cell_type": "code",
   "execution_count": 47,
   "metadata": {
    "id": "FCtt3xcyXnOY"
   },
   "outputs": [],
   "source": [
    "x_train_new = pd.DataFrame(x_new_15)\n",
    "x_test_new = pd.DataFrame(x_test_15)"
   ]
  },
  {
   "cell_type": "markdown",
   "metadata": {
    "id": "VwlDgBb6YEB7"
   },
   "source": [
    "k = 10:"
   ]
  },
  {
   "cell_type": "code",
   "execution_count": 51,
   "metadata": {
    "colab": {
     "base_uri": "https://localhost:8080/",
     "height": 0
    },
    "id": "yxReO38OYFAH",
    "outputId": "b50c8fbf-ab58-4301-c01e-1c90211f3dc5"
   },
   "outputs": [
    {
     "name": "stdout",
     "output_type": "stream",
     "text": [
      "accuracy =  0.9743589743589743\n"
     ]
    },
    {
     "data": {
      "text/plain": [
       "array([[14,  1,  0],\n",
       "       [ 0, 11,  0],\n",
       "       [ 0,  0, 13]])"
      ]
     },
     "execution_count": 51,
     "metadata": {},
     "output_type": "execute_result"
    }
   ],
   "source": [
    "k = 10\n",
    "y_k10 = [None]*len(y_test)\n",
    "class_list_10 = [None]*len(y_test)\n",
    "y_k10, class_list_10 = KNN_Classifier(x_train_new, y_train, x_test_new, k)\n",
    "print('accuracy = ', accuracy_score(y_test, y_k10))\n",
    "confusion_matrix(y_test, y_k10)"
   ]
  },
  {
   "cell_type": "markdown",
   "metadata": {
    "id": "fjw_2d-vYHwN"
   },
   "source": [
    "k = 5:"
   ]
  },
  {
   "cell_type": "code",
   "execution_count": 108,
   "metadata": {
    "colab": {
     "base_uri": "https://localhost:8080/",
     "height": 0
    },
    "id": "J9ptTsHoYJSS",
    "outputId": "41949c58-9057-4de7-e640-d87e8f2d1245"
   },
   "outputs": [
    {
     "name": "stdout",
     "output_type": "stream",
     "text": [
      "accuracy =  0.9666666666666667\n"
     ]
    },
    {
     "data": {
      "text/plain": [
       "array([[10,  0,  0],\n",
       "       [ 1, 12,  0],\n",
       "       [ 0,  0,  7]])"
      ]
     },
     "execution_count": 108,
     "metadata": {},
     "output_type": "execute_result"
    }
   ],
   "source": [
    "k = 5\n",
    "y_k5 = [None]*len(y_test)\n",
    "class_list_5 = [None]*len(y_test)\n",
    "y_k5, class_list_5 = KNN_Classifier(x_train_new, y_train, x_test_new, k)\n",
    "print('accuracy = ', accuracy_score(y_test, y_k5))\n",
    "confusion_matrix(y_test, y_k5)"
   ]
  },
  {
   "cell_type": "markdown",
   "metadata": {
    "id": "ladVp5NDYJfC"
   },
   "source": [
    "k = 20:"
   ]
  },
  {
   "cell_type": "code",
   "execution_count": 109,
   "metadata": {
    "colab": {
     "base_uri": "https://localhost:8080/",
     "height": 0
    },
    "id": "ea_KmCIxYMvN",
    "outputId": "87e65d76-f37f-4f69-c297-c51dd3575972"
   },
   "outputs": [
    {
     "name": "stdout",
     "output_type": "stream",
     "text": [
      "accuracy =  0.9666666666666667\n"
     ]
    },
    {
     "data": {
      "text/plain": [
       "array([[10,  0,  0],\n",
       "       [ 1, 12,  0],\n",
       "       [ 0,  0,  7]])"
      ]
     },
     "execution_count": 109,
     "metadata": {},
     "output_type": "execute_result"
    }
   ],
   "source": [
    "k = 20\n",
    "y_k20 = [None]*len(y_test)\n",
    "class_list_20 = [None]*len(y_test)\n",
    "y_k20, class_list_20 = KNN_Classifier(x_train_new, y_train, x_test_new, k)\n",
    "print('accuracy = ', accuracy_score(y_test, y_k20))\n",
    "confusion_matrix(y_test, y_k20)"
   ]
  },
  {
   "cell_type": "markdown",
   "metadata": {
    "id": "i4lYYUrGYM4z"
   },
   "source": [
    "k = 1:"
   ]
  },
  {
   "cell_type": "code",
   "execution_count": 113,
   "metadata": {
    "colab": {
     "base_uri": "https://localhost:8080/",
     "height": 0
    },
    "id": "DE_pPw4EYOQp",
    "outputId": "b3da8dd6-f4d2-48b9-811f-4ee0d2670d9e"
   },
   "outputs": [
    {
     "name": "stdout",
     "output_type": "stream",
     "text": [
      "accuracy =  1.0\n"
     ]
    },
    {
     "data": {
      "text/plain": [
       "array([[10,  0,  0],\n",
       "       [ 0, 13,  0],\n",
       "       [ 0,  0,  7]])"
      ]
     },
     "execution_count": 113,
     "metadata": {},
     "output_type": "execute_result"
    }
   ],
   "source": [
    "k = 1\n",
    "y_k1 = [None]*len(y_test)\n",
    "class_list_1 = [None]*len(y_test)\n",
    "y_k1, class_list_1 = KNN_Classifier(x_train_new, y_train, x_test_new, k)\n",
    "print('accuracy = ', accuracy_score(y_test, y_k1))\n",
    "confusion_matrix(y_test, y_k1)"
   ]
  },
  {
   "cell_type": "markdown",
   "metadata": {
    "id": "DYGnGqtMY5YI"
   },
   "source": [
    "Correlation Matrix:"
   ]
  },
  {
   "cell_type": "code",
   "execution_count": 49,
   "metadata": {
    "colab": {
     "base_uri": "https://localhost:8080/",
     "height": 298
    },
    "id": "KVlmAq8RY7Y6",
    "outputId": "db14290c-1434-4282-d52a-01b045ddada9"
   },
   "outputs": [
    {
     "data": {
      "text/plain": [
       "<AxesSubplot:title={'center':'Correlation Matrix after applying LFDA'}>"
      ]
     },
     "execution_count": 49,
     "metadata": {},
     "output_type": "execute_result"
    },
    {
     "data": {
      "image/png": "[encoded data removed]",
      "text/plain": [
       "<Figure size 432x288 with 2 Axes>"
      ]
     },
     "metadata": {
      "needs_background": "light"
     },
     "output_type": "display_data"
    }
   ],
   "source": [
    "corr_matrix_final = x_train_new.corr()\n",
    "plt.title('Correlation Matrix after applying LFDA')\n",
    "sns.heatmap(corr_matrix_final, annot=True)"
   ]
  },
  {
   "cell_type": "code",
   "execution_count": null,
   "metadata": {},
   "outputs": [],
   "source": []
  }
 ],
 "metadata": {
  "colab": {
   "provenance": []
  },
  "kernelspec": {
   "display_name": "Python 3",
   "language": "python",
   "name": "python3"
  },
  "language_info": {
   "codemirror_mode": {
    "name": "ipython",
    "version": 3
   },
   "file_extension": ".py",
   "mimetype": "text/x-python",
   "name": "python",
   "nbconvert_exporter": "python",
   "pygments_lexer": "ipython3",
   "version": "3.8.5"
  }
 },
 "nbformat": 4,
 "nbformat_minor": 1
}
